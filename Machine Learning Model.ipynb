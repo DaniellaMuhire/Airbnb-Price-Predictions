{
 "cells": [
  {
   "cell_type": "code",
   "execution_count": 1,
   "id": "94a6fca3",
   "metadata": {},
   "outputs": [],
   "source": [
    "import warnings\n",
    "warnings.filterwarnings('ignore')"
   ]
  },
  {
   "cell_type": "code",
   "execution_count": 2,
   "id": "7d7347a5",
   "metadata": {},
   "outputs": [],
   "source": [
    "import numpy as np\n",
    "import pandas as pd\n",
    "from pathlib import Path\n",
    "from collections import Counter"
   ]
  },
  {
   "cell_type": "code",
   "execution_count": 3,
   "id": "0e0437d5",
   "metadata": {},
   "outputs": [],
   "source": [
    "import pandas as pd\n",
    "import numpy as np\n",
    "import matplotlib\n",
    "import seaborn as sb\n",
    "import matplotlib.pyplot as plt\n",
    "import matplotlib.cm as cmx\n",
    "import matplotlib.colors as colors\n",
    "import math\n",
    "import pylab\n",
    "import scipy.stats as stats\n",
    "%matplotlib inline\n",
    "from sklearn import linear_model\n",
    "from sklearn.linear_model import LinearRegression"
   ]
  },
  {
   "cell_type": "code",
   "execution_count": 4,
   "id": "aa5e5e04",
   "metadata": {},
   "outputs": [
    {
     "data": {
      "text/html": [
       "<div>\n",
       "<style scoped>\n",
       "    .dataframe tbody tr th:only-of-type {\n",
       "        vertical-align: middle;\n",
       "    }\n",
       "\n",
       "    .dataframe tbody tr th {\n",
       "        vertical-align: top;\n",
       "    }\n",
       "\n",
       "    .dataframe thead th {\n",
       "        text-align: right;\n",
       "    }\n",
       "</style>\n",
       "<table border=\"1\" class=\"dataframe\">\n",
       "  <thead>\n",
       "    <tr style=\"text-align: right;\">\n",
       "      <th></th>\n",
       "      <th>id</th>\n",
       "      <th>host_id</th>\n",
       "      <th>host_listings_count</th>\n",
       "      <th>neighbourhood_cleansed</th>\n",
       "      <th>latitude</th>\n",
       "      <th>longitude</th>\n",
       "      <th>property_type</th>\n",
       "      <th>room_type</th>\n",
       "      <th>accommodates</th>\n",
       "      <th>bedrooms</th>\n",
       "      <th>beds</th>\n",
       "      <th>price</th>\n",
       "      <th>minimum_nights</th>\n",
       "      <th>availability_30</th>\n",
       "      <th>number_of_reviews</th>\n",
       "      <th>review_scores_rating</th>\n",
       "      <th>zip</th>\n",
       "    </tr>\n",
       "  </thead>\n",
       "  <tbody>\n",
       "    <tr>\n",
       "      <th>0</th>\n",
       "      <td>2539</td>\n",
       "      <td>2787</td>\n",
       "      <td>9.0</td>\n",
       "      <td>Kensington</td>\n",
       "      <td>40.64529</td>\n",
       "      <td>-73.97238</td>\n",
       "      <td>Private room in rental unit</td>\n",
       "      <td>Private room</td>\n",
       "      <td>2</td>\n",
       "      <td>1.0</td>\n",
       "      <td>1.0</td>\n",
       "      <td>$299.00</td>\n",
       "      <td>30</td>\n",
       "      <td>21</td>\n",
       "      <td>9</td>\n",
       "      <td>4.89</td>\n",
       "      <td>11218</td>\n",
       "    </tr>\n",
       "    <tr>\n",
       "      <th>1</th>\n",
       "      <td>5121</td>\n",
       "      <td>7356</td>\n",
       "      <td>2.0</td>\n",
       "      <td>Bedford-Stuyvesant</td>\n",
       "      <td>40.68535</td>\n",
       "      <td>-73.95512</td>\n",
       "      <td>Private room in rental unit</td>\n",
       "      <td>Private room</td>\n",
       "      <td>2</td>\n",
       "      <td>1.0</td>\n",
       "      <td>1.0</td>\n",
       "      <td>$60.00</td>\n",
       "      <td>30</td>\n",
       "      <td>5</td>\n",
       "      <td>50</td>\n",
       "      <td>4.52</td>\n",
       "      <td>11216</td>\n",
       "    </tr>\n",
       "    <tr>\n",
       "      <th>2</th>\n",
       "      <td>45910</td>\n",
       "      <td>204539</td>\n",
       "      <td>7.0</td>\n",
       "      <td>Ridgewood</td>\n",
       "      <td>40.70309</td>\n",
       "      <td>-73.89963</td>\n",
       "      <td>Entire townhouse</td>\n",
       "      <td>Entire home/apt</td>\n",
       "      <td>16</td>\n",
       "      <td>5.0</td>\n",
       "      <td>10.0</td>\n",
       "      <td>$425.00</td>\n",
       "      <td>30</td>\n",
       "      <td>30</td>\n",
       "      <td>13</td>\n",
       "      <td>4.42</td>\n",
       "      <td>11385</td>\n",
       "    </tr>\n",
       "    <tr>\n",
       "      <th>3</th>\n",
       "      <td>5136</td>\n",
       "      <td>7378</td>\n",
       "      <td>1.0</td>\n",
       "      <td>Sunset Park</td>\n",
       "      <td>40.66265</td>\n",
       "      <td>-73.99454</td>\n",
       "      <td>Entire rental unit</td>\n",
       "      <td>Entire home/apt</td>\n",
       "      <td>4</td>\n",
       "      <td>2.0</td>\n",
       "      <td>2.0</td>\n",
       "      <td>$275.00</td>\n",
       "      <td>21</td>\n",
       "      <td>0</td>\n",
       "      <td>3</td>\n",
       "      <td>5.00</td>\n",
       "      <td>11215</td>\n",
       "    </tr>\n",
       "    <tr>\n",
       "      <th>4</th>\n",
       "      <td>77765</td>\n",
       "      <td>417504</td>\n",
       "      <td>30.0</td>\n",
       "      <td>Greenpoint</td>\n",
       "      <td>40.73777</td>\n",
       "      <td>-73.95366</td>\n",
       "      <td>Room in boutique hotel</td>\n",
       "      <td>Hotel room</td>\n",
       "      <td>2</td>\n",
       "      <td>1.0</td>\n",
       "      <td>1.0</td>\n",
       "      <td>$308.00</td>\n",
       "      <td>2</td>\n",
       "      <td>15</td>\n",
       "      <td>42</td>\n",
       "      <td>4.90</td>\n",
       "      <td>11109</td>\n",
       "    </tr>\n",
       "  </tbody>\n",
       "</table>\n",
       "</div>"
      ],
      "text/plain": [
       "      id  host_id  host_listings_count neighbourhood_cleansed  latitude  \\\n",
       "0   2539     2787                  9.0             Kensington  40.64529   \n",
       "1   5121     7356                  2.0     Bedford-Stuyvesant  40.68535   \n",
       "2  45910   204539                  7.0              Ridgewood  40.70309   \n",
       "3   5136     7378                  1.0            Sunset Park  40.66265   \n",
       "4  77765   417504                 30.0             Greenpoint  40.73777   \n",
       "\n",
       "   longitude                property_type        room_type  accommodates  \\\n",
       "0  -73.97238  Private room in rental unit     Private room             2   \n",
       "1  -73.95512  Private room in rental unit     Private room             2   \n",
       "2  -73.89963             Entire townhouse  Entire home/apt            16   \n",
       "3  -73.99454           Entire rental unit  Entire home/apt             4   \n",
       "4  -73.95366       Room in boutique hotel       Hotel room             2   \n",
       "\n",
       "   bedrooms  beds    price  minimum_nights  availability_30  \\\n",
       "0       1.0   1.0  $299.00              30               21   \n",
       "1       1.0   1.0   $60.00              30                5   \n",
       "2       5.0  10.0  $425.00              30               30   \n",
       "3       2.0   2.0  $275.00              21                0   \n",
       "4       1.0   1.0  $308.00               2               15   \n",
       "\n",
       "   number_of_reviews  review_scores_rating    zip  \n",
       "0                  9                  4.89  11218  \n",
       "1                 50                  4.52  11216  \n",
       "2                 13                  4.42  11385  \n",
       "3                  3                  5.00  11215  \n",
       "4                 42                  4.90  11109  "
      ]
     },
     "execution_count": 4,
     "metadata": {},
     "output_type": "execute_result"
    }
   ],
   "source": [
    "# Loading clean listing dataset\n",
    "file_path = \"Resources/listings_data_cleaned.csv\"\n",
    "df = pd.read_csv(file_path)\n",
    "df.head()"
   ]
  },
  {
   "cell_type": "code",
   "execution_count": 5,
   "id": "de820f2c",
   "metadata": {},
   "outputs": [
    {
     "data": {
      "text/plain": [
       "0        299.0\n",
       "1         60.0\n",
       "2        425.0\n",
       "3        275.0\n",
       "4        308.0\n",
       "         ...  \n",
       "28005    125.0\n",
       "28006    150.0\n",
       "28007    157.0\n",
       "28008    108.0\n",
       "28009    140.0\n",
       "Name: Price, Length: 28010, dtype: float64"
      ]
     },
     "execution_count": 5,
     "metadata": {},
     "output_type": "execute_result"
    }
   ],
   "source": [
    "# Convert \"price\" from object to int\n",
    "df[\"Price\"] = df[\"price\"].str.replace('[\\$\\,]', '', regex=True)\n",
    "df[\"Price\"]= pd.to_numeric(df[\"Price\"])\n",
    "df[\"Price\"]"
   ]
  },
  {
   "cell_type": "code",
   "execution_count": 6,
   "id": "86244b26",
   "metadata": {},
   "outputs": [
    {
     "data": {
      "text/html": [
       "<div>\n",
       "<style scoped>\n",
       "    .dataframe tbody tr th:only-of-type {\n",
       "        vertical-align: middle;\n",
       "    }\n",
       "\n",
       "    .dataframe tbody tr th {\n",
       "        vertical-align: top;\n",
       "    }\n",
       "\n",
       "    .dataframe thead th {\n",
       "        text-align: right;\n",
       "    }\n",
       "</style>\n",
       "<table border=\"1\" class=\"dataframe\">\n",
       "  <thead>\n",
       "    <tr style=\"text-align: right;\">\n",
       "      <th></th>\n",
       "      <th>id</th>\n",
       "      <th>host_id</th>\n",
       "      <th>host_listings_count</th>\n",
       "      <th>neighbourhood_cleansed</th>\n",
       "      <th>latitude</th>\n",
       "      <th>longitude</th>\n",
       "      <th>property_type</th>\n",
       "      <th>room_type</th>\n",
       "      <th>accommodates</th>\n",
       "      <th>bedrooms</th>\n",
       "      <th>beds</th>\n",
       "      <th>price</th>\n",
       "      <th>minimum_nights</th>\n",
       "      <th>availability_30</th>\n",
       "      <th>number_of_reviews</th>\n",
       "      <th>review_scores_rating</th>\n",
       "      <th>zip</th>\n",
       "      <th>Price</th>\n",
       "    </tr>\n",
       "  </thead>\n",
       "  <tbody>\n",
       "    <tr>\n",
       "      <th>0</th>\n",
       "      <td>2539</td>\n",
       "      <td>2787</td>\n",
       "      <td>9.0</td>\n",
       "      <td>Kensington</td>\n",
       "      <td>40.64529</td>\n",
       "      <td>-73.97238</td>\n",
       "      <td>Private room in rental unit</td>\n",
       "      <td>Private room</td>\n",
       "      <td>2</td>\n",
       "      <td>1.0</td>\n",
       "      <td>1.0</td>\n",
       "      <td>$299.00</td>\n",
       "      <td>30</td>\n",
       "      <td>21</td>\n",
       "      <td>9</td>\n",
       "      <td>4.89</td>\n",
       "      <td>11218</td>\n",
       "      <td>299.0</td>\n",
       "    </tr>\n",
       "    <tr>\n",
       "      <th>1</th>\n",
       "      <td>5121</td>\n",
       "      <td>7356</td>\n",
       "      <td>2.0</td>\n",
       "      <td>Bedford-Stuyvesant</td>\n",
       "      <td>40.68535</td>\n",
       "      <td>-73.95512</td>\n",
       "      <td>Private room in rental unit</td>\n",
       "      <td>Private room</td>\n",
       "      <td>2</td>\n",
       "      <td>1.0</td>\n",
       "      <td>1.0</td>\n",
       "      <td>$60.00</td>\n",
       "      <td>30</td>\n",
       "      <td>5</td>\n",
       "      <td>50</td>\n",
       "      <td>4.52</td>\n",
       "      <td>11216</td>\n",
       "      <td>60.0</td>\n",
       "    </tr>\n",
       "    <tr>\n",
       "      <th>2</th>\n",
       "      <td>45910</td>\n",
       "      <td>204539</td>\n",
       "      <td>7.0</td>\n",
       "      <td>Ridgewood</td>\n",
       "      <td>40.70309</td>\n",
       "      <td>-73.89963</td>\n",
       "      <td>Entire townhouse</td>\n",
       "      <td>Entire home/apt</td>\n",
       "      <td>16</td>\n",
       "      <td>5.0</td>\n",
       "      <td>10.0</td>\n",
       "      <td>$425.00</td>\n",
       "      <td>30</td>\n",
       "      <td>30</td>\n",
       "      <td>13</td>\n",
       "      <td>4.42</td>\n",
       "      <td>11385</td>\n",
       "      <td>425.0</td>\n",
       "    </tr>\n",
       "    <tr>\n",
       "      <th>3</th>\n",
       "      <td>5136</td>\n",
       "      <td>7378</td>\n",
       "      <td>1.0</td>\n",
       "      <td>Sunset Park</td>\n",
       "      <td>40.66265</td>\n",
       "      <td>-73.99454</td>\n",
       "      <td>Entire rental unit</td>\n",
       "      <td>Entire home/apt</td>\n",
       "      <td>4</td>\n",
       "      <td>2.0</td>\n",
       "      <td>2.0</td>\n",
       "      <td>$275.00</td>\n",
       "      <td>21</td>\n",
       "      <td>0</td>\n",
       "      <td>3</td>\n",
       "      <td>5.00</td>\n",
       "      <td>11215</td>\n",
       "      <td>275.0</td>\n",
       "    </tr>\n",
       "    <tr>\n",
       "      <th>4</th>\n",
       "      <td>77765</td>\n",
       "      <td>417504</td>\n",
       "      <td>30.0</td>\n",
       "      <td>Greenpoint</td>\n",
       "      <td>40.73777</td>\n",
       "      <td>-73.95366</td>\n",
       "      <td>Room in boutique hotel</td>\n",
       "      <td>Hotel room</td>\n",
       "      <td>2</td>\n",
       "      <td>1.0</td>\n",
       "      <td>1.0</td>\n",
       "      <td>$308.00</td>\n",
       "      <td>2</td>\n",
       "      <td>15</td>\n",
       "      <td>42</td>\n",
       "      <td>4.90</td>\n",
       "      <td>11109</td>\n",
       "      <td>308.0</td>\n",
       "    </tr>\n",
       "  </tbody>\n",
       "</table>\n",
       "</div>"
      ],
      "text/plain": [
       "      id  host_id  host_listings_count neighbourhood_cleansed  latitude  \\\n",
       "0   2539     2787                  9.0             Kensington  40.64529   \n",
       "1   5121     7356                  2.0     Bedford-Stuyvesant  40.68535   \n",
       "2  45910   204539                  7.0              Ridgewood  40.70309   \n",
       "3   5136     7378                  1.0            Sunset Park  40.66265   \n",
       "4  77765   417504                 30.0             Greenpoint  40.73777   \n",
       "\n",
       "   longitude                property_type        room_type  accommodates  \\\n",
       "0  -73.97238  Private room in rental unit     Private room             2   \n",
       "1  -73.95512  Private room in rental unit     Private room             2   \n",
       "2  -73.89963             Entire townhouse  Entire home/apt            16   \n",
       "3  -73.99454           Entire rental unit  Entire home/apt             4   \n",
       "4  -73.95366       Room in boutique hotel       Hotel room             2   \n",
       "\n",
       "   bedrooms  beds    price  minimum_nights  availability_30  \\\n",
       "0       1.0   1.0  $299.00              30               21   \n",
       "1       1.0   1.0   $60.00              30                5   \n",
       "2       5.0  10.0  $425.00              30               30   \n",
       "3       2.0   2.0  $275.00              21                0   \n",
       "4       1.0   1.0  $308.00               2               15   \n",
       "\n",
       "   number_of_reviews  review_scores_rating    zip  Price  \n",
       "0                  9                  4.89  11218  299.0  \n",
       "1                 50                  4.52  11216   60.0  \n",
       "2                 13                  4.42  11385  425.0  \n",
       "3                  3                  5.00  11215  275.0  \n",
       "4                 42                  4.90  11109  308.0  "
      ]
     },
     "execution_count": 6,
     "metadata": {},
     "output_type": "execute_result"
    }
   ],
   "source": [
    "df.head()"
   ]
  },
  {
   "cell_type": "code",
   "execution_count": 7,
   "id": "f9df9d21",
   "metadata": {},
   "outputs": [],
   "source": [
    "# Remove the price Column\n",
    "df.drop(columns=[\"price\"], inplace=True)"
   ]
  },
  {
   "cell_type": "code",
   "execution_count": 48,
   "id": "c11e4520",
   "metadata": {},
   "outputs": [
    {
     "data": {
      "text/plain": [
       "id                          int64\n",
       "host_id                     int64\n",
       "host_listings_count       float64\n",
       "neighbourhood_cleansed     object\n",
       "latitude                  float64\n",
       "longitude                 float64\n",
       "property_type              object\n",
       "room_type                  object\n",
       "accommodates                int64\n",
       "bedrooms                  float64\n",
       "beds                      float64\n",
       "minimum_nights              int64\n",
       "availability_30             int64\n",
       "number_of_reviews           int64\n",
       "review_scores_rating      float64\n",
       "zip                         int64\n",
       "Price                     float64\n",
       "dtype: object"
      ]
     },
     "execution_count": 48,
     "metadata": {},
     "output_type": "execute_result"
    }
   ],
   "source": [
    "result=df.dtypes\n",
    "result"
   ]
  },
  {
   "cell_type": "code",
   "execution_count": 16,
   "id": "66abe0b7",
   "metadata": {},
   "outputs": [
    {
     "data": {
      "image/png": "[encoded data removed]",
      "text/plain": [
       "<Figure size 432x288 with 1 Axes>"
      ]
     },
     "metadata": {
      "needs_background": "light"
     },
     "output_type": "display_data"
    }
   ],
   "source": [
    "# Relationship between zip code and price\n",
    "plt.scatter(df.zip, df.Price)\n",
    "plt.xlabel('Zip Code')\n",
    "plt.ylabel('Price')\n",
    "plt.show()"
   ]
  },
  {
   "cell_type": "code",
   "execution_count": 25,
   "id": "6dd80a7b",
   "metadata": {},
   "outputs": [
    {
     "data": {
      "image/png": "[encoded data removed]",
      "text/plain": [
       "<Figure size 432x288 with 1 Axes>"
      ]
     },
     "metadata": {
      "needs_background": "light"
     },
     "output_type": "display_data"
    }
   ],
   "source": [
    "# Relationship between accomodates and Price\n",
    "plt.scatter(df.accommodates, df.Price)\n",
    "plt.xlabel('Accomodates')\n",
    "plt.ylabel('Price')\n",
    "plt.show()"
   ]
  },
  {
   "cell_type": "code",
   "execution_count": 17,
   "id": "aded205b",
   "metadata": {},
   "outputs": [
    {
     "data": {
      "image/png": "[encoded data removed]",
      "text/plain": [
       "<Figure size 432x288 with 1 Axes>"
      ]
     },
     "metadata": {
      "needs_background": "light"
     },
     "output_type": "display_data"
    }
   ],
   "source": [
    "# Relationship between bedrooms and Price\n",
    "plt.scatter(df.bedrooms, df.Price)\n",
    "plt.xlabel('Bedrooms')\n",
    "plt.ylabel('Price')\n",
    "plt.show()"
   ]
  },
  {
   "cell_type": "code",
   "execution_count": 26,
   "id": "66c5fa9a",
   "metadata": {},
   "outputs": [
    {
     "data": {
      "image/png": "[encoded data removed]",
      "text/plain": [
       "<Figure size 432x288 with 1 Axes>"
      ]
     },
     "metadata": {
      "needs_background": "light"
     },
     "output_type": "display_data"
    }
   ],
   "source": [
    "# Relationship between beds and Price\n",
    "plt.scatter(df.beds, df.Price)\n",
    "plt.xlabel('Beds')\n",
    "plt.ylabel('Price')\n",
    "plt.show()"
   ]
  },
  {
   "cell_type": "code",
   "execution_count": 19,
   "id": "4316752a",
   "metadata": {},
   "outputs": [
    {
     "data": {
      "image/png": "[encoded data removed]",
      "text/plain": [
       "<Figure size 432x288 with 1 Axes>"
      ]
     },
     "metadata": {
      "needs_background": "light"
     },
     "output_type": "display_data"
    }
   ],
   "source": [
    "# Relationship between minimum_nights and Price\n",
    "plt.scatter(df.minimum_nights, df.Price)\n",
    "plt.xlabel('Minimum_Nights')\n",
    "plt.ylabel('Price')\n",
    "plt.show()"
   ]
  },
  {
   "cell_type": "code",
   "execution_count": 27,
   "id": "33c72f6c",
   "metadata": {},
   "outputs": [
    {
     "data": {
      "image/png": "[encoded data removed]",
      "text/plain": [
       "<Figure size 432x288 with 1 Axes>"
      ]
     },
     "metadata": {
      "needs_background": "light"
     },
     "output_type": "display_data"
    }
   ],
   "source": [
    "# Relationship between availability and Price\n",
    "plt.scatter(df.availability_30, df.Price)\n",
    "plt.xlabel(\"Availability\")\n",
    "plt.ylabel(\"Price\")\n",
    "plt.show()"
   ]
  },
  {
   "cell_type": "code",
   "execution_count": 29,
   "id": "8aaa4df3",
   "metadata": {},
   "outputs": [
    {
     "data": {
      "image/png": "[encoded data removed]",
      "text/plain": [
       "<Figure size 432x288 with 1 Axes>"
      ]
     },
     "metadata": {
      "needs_background": "light"
     },
     "output_type": "display_data"
    }
   ],
   "source": [
    "# Relationship between number of reviews and Price\n",
    "plt.scatter(df.number_of_reviews, df.Price)\n",
    "plt.xlabel(\"Number of Reviews\")\n",
    "plt.ylabel(\"Price\")\n",
    "plt.show()"
   ]
  },
  {
   "cell_type": "code",
   "execution_count": 30,
   "id": "6a172ee4",
   "metadata": {},
   "outputs": [
    {
     "data": {
      "image/png": "[encoded data removed]",
      "text/plain": [
       "<Figure size 432x288 with 1 Axes>"
      ]
     },
     "metadata": {
      "needs_background": "light"
     },
     "output_type": "display_data"
    }
   ],
   "source": [
    "# Relationship between review_scores_rating and price\n",
    "plt.scatter(df.review_scores_rating, df.Price)\n",
    "plt.xlabel('Review Scores')\n",
    "plt.ylabel('Price')\n",
    "plt.show()"
   ]
  },
  {
   "cell_type": "code",
   "execution_count": 34,
   "id": "45e1c884",
   "metadata": {},
   "outputs": [],
   "source": [
    "# Reshape the data\n",
    "X_Nights = df.minimum_nights.values.reshape(-1, 1)"
   ]
  },
  {
   "cell_type": "code",
   "execution_count": 35,
   "id": "7e9a4f9a",
   "metadata": {},
   "outputs": [
    {
     "data": {
      "text/plain": [
       "array([[30],\n",
       "       [30],\n",
       "       [30],\n",
       "       [21],\n",
       "       [ 2]])"
      ]
     },
     "execution_count": 35,
     "metadata": {},
     "output_type": "execute_result"
    }
   ],
   "source": [
    "X_Nights[:5]"
   ]
  },
  {
   "cell_type": "code",
   "execution_count": 36,
   "id": "ae9c56b3",
   "metadata": {},
   "outputs": [
    {
     "data": {
      "text/plain": [
       "(28010, 1)"
      ]
     },
     "execution_count": 36,
     "metadata": {},
     "output_type": "execute_result"
    }
   ],
   "source": [
    "X_Nights.shape"
   ]
  },
  {
   "cell_type": "code",
   "execution_count": 37,
   "id": "0d1319d3",
   "metadata": {},
   "outputs": [],
   "source": [
    "y= df.Price"
   ]
  },
  {
   "cell_type": "code",
   "execution_count": 38,
   "id": "d93ee980",
   "metadata": {},
   "outputs": [],
   "source": [
    "model = LinearRegression()"
   ]
  },
  {
   "cell_type": "code",
   "execution_count": 39,
   "id": "a214e0af",
   "metadata": {},
   "outputs": [
    {
     "data": {
      "text/plain": [
       "LinearRegression()"
      ]
     },
     "execution_count": 39,
     "metadata": {},
     "output_type": "execute_result"
    }
   ],
   "source": [
    "# Fitting and training the model\n",
    "model.fit(X_Nights, y)"
   ]
  },
  {
   "cell_type": "code",
   "execution_count": 40,
   "id": "20637b2a",
   "metadata": {},
   "outputs": [
    {
     "name": "stdout",
     "output_type": "stream",
     "text": [
      "(28010,)\n"
     ]
    }
   ],
   "source": [
    "y_pred = model.predict(X_Nights)\n",
    "print(y_pred.shape)"
   ]
  },
  {
   "cell_type": "code",
   "execution_count": 41,
   "id": "ac734e0d",
   "metadata": {},
   "outputs": [
    {
     "data": {
      "image/png": "[encoded data removed]",
      "text/plain": [
       "<Figure size 432x288 with 1 Axes>"
      ]
     },
     "metadata": {
      "needs_background": "light"
     },
     "output_type": "display_data"
    }
   ],
   "source": [
    "plt.scatter(X_Nights, y)\n",
    "plt.plot(X_Nights, y_pred, color='red')\n",
    "plt.show()"
   ]
  },
  {
   "cell_type": "code",
   "execution_count": 42,
   "id": "4154a745",
   "metadata": {},
   "outputs": [
    {
     "name": "stdout",
     "output_type": "stream",
     "text": [
      "[-0.35027054]\n",
      "189.35935690994552\n"
     ]
    }
   ],
   "source": [
    "print(model.coef_)\n",
    "print(model.intercept_)"
   ]
  },
  {
   "cell_type": "code",
   "execution_count": null,
   "id": "0e475536",
   "metadata": {},
   "outputs": [],
   "source": []
  },
  {
   "cell_type": "code",
   "execution_count": 8,
   "id": "5cf8042f",
   "metadata": {},
   "outputs": [],
   "source": [
    "target = [\"Price\"]"
   ]
  },
  {
   "cell_type": "code",
   "execution_count": 9,
   "id": "af291495",
   "metadata": {},
   "outputs": [
    {
     "data": {
      "text/html": [
       "<div>\n",
       "<style scoped>\n",
       "    .dataframe tbody tr th:only-of-type {\n",
       "        vertical-align: middle;\n",
       "    }\n",
       "\n",
       "    .dataframe tbody tr th {\n",
       "        vertical-align: top;\n",
       "    }\n",
       "\n",
       "    .dataframe thead th {\n",
       "        text-align: right;\n",
       "    }\n",
       "</style>\n",
       "<table border=\"1\" class=\"dataframe\">\n",
       "  <thead>\n",
       "    <tr style=\"text-align: right;\">\n",
       "      <th></th>\n",
       "      <th>id</th>\n",
       "      <th>host_id</th>\n",
       "      <th>host_listings_count</th>\n",
       "      <th>neighbourhood_cleansed</th>\n",
       "      <th>latitude</th>\n",
       "      <th>longitude</th>\n",
       "      <th>property_type</th>\n",
       "      <th>room_type</th>\n",
       "      <th>accommodates</th>\n",
       "      <th>bedrooms</th>\n",
       "      <th>beds</th>\n",
       "      <th>minimum_nights</th>\n",
       "      <th>availability_30</th>\n",
       "      <th>number_of_reviews</th>\n",
       "      <th>review_scores_rating</th>\n",
       "      <th>zip</th>\n",
       "      <th>Price</th>\n",
       "    </tr>\n",
       "  </thead>\n",
       "  <tbody>\n",
       "    <tr>\n",
       "      <th>0</th>\n",
       "      <td>2539</td>\n",
       "      <td>2787</td>\n",
       "      <td>9.0</td>\n",
       "      <td>Kensington</td>\n",
       "      <td>40.64529</td>\n",
       "      <td>-73.97238</td>\n",
       "      <td>Private room in rental unit</td>\n",
       "      <td>Private room</td>\n",
       "      <td>2</td>\n",
       "      <td>1.0</td>\n",
       "      <td>1.0</td>\n",
       "      <td>30</td>\n",
       "      <td>21</td>\n",
       "      <td>9</td>\n",
       "      <td>4.89</td>\n",
       "      <td>11218</td>\n",
       "      <td>299.0</td>\n",
       "    </tr>\n",
       "    <tr>\n",
       "      <th>1</th>\n",
       "      <td>5121</td>\n",
       "      <td>7356</td>\n",
       "      <td>2.0</td>\n",
       "      <td>Bedford-Stuyvesant</td>\n",
       "      <td>40.68535</td>\n",
       "      <td>-73.95512</td>\n",
       "      <td>Private room in rental unit</td>\n",
       "      <td>Private room</td>\n",
       "      <td>2</td>\n",
       "      <td>1.0</td>\n",
       "      <td>1.0</td>\n",
       "      <td>30</td>\n",
       "      <td>5</td>\n",
       "      <td>50</td>\n",
       "      <td>4.52</td>\n",
       "      <td>11216</td>\n",
       "      <td>60.0</td>\n",
       "    </tr>\n",
       "    <tr>\n",
       "      <th>2</th>\n",
       "      <td>45910</td>\n",
       "      <td>204539</td>\n",
       "      <td>7.0</td>\n",
       "      <td>Ridgewood</td>\n",
       "      <td>40.70309</td>\n",
       "      <td>-73.89963</td>\n",
       "      <td>Entire townhouse</td>\n",
       "      <td>Entire home/apt</td>\n",
       "      <td>16</td>\n",
       "      <td>5.0</td>\n",
       "      <td>10.0</td>\n",
       "      <td>30</td>\n",
       "      <td>30</td>\n",
       "      <td>13</td>\n",
       "      <td>4.42</td>\n",
       "      <td>11385</td>\n",
       "      <td>425.0</td>\n",
       "    </tr>\n",
       "    <tr>\n",
       "      <th>3</th>\n",
       "      <td>5136</td>\n",
       "      <td>7378</td>\n",
       "      <td>1.0</td>\n",
       "      <td>Sunset Park</td>\n",
       "      <td>40.66265</td>\n",
       "      <td>-73.99454</td>\n",
       "      <td>Entire rental unit</td>\n",
       "      <td>Entire home/apt</td>\n",
       "      <td>4</td>\n",
       "      <td>2.0</td>\n",
       "      <td>2.0</td>\n",
       "      <td>21</td>\n",
       "      <td>0</td>\n",
       "      <td>3</td>\n",
       "      <td>5.00</td>\n",
       "      <td>11215</td>\n",
       "      <td>275.0</td>\n",
       "    </tr>\n",
       "    <tr>\n",
       "      <th>4</th>\n",
       "      <td>77765</td>\n",
       "      <td>417504</td>\n",
       "      <td>30.0</td>\n",
       "      <td>Greenpoint</td>\n",
       "      <td>40.73777</td>\n",
       "      <td>-73.95366</td>\n",
       "      <td>Room in boutique hotel</td>\n",
       "      <td>Hotel room</td>\n",
       "      <td>2</td>\n",
       "      <td>1.0</td>\n",
       "      <td>1.0</td>\n",
       "      <td>2</td>\n",
       "      <td>15</td>\n",
       "      <td>42</td>\n",
       "      <td>4.90</td>\n",
       "      <td>11109</td>\n",
       "      <td>308.0</td>\n",
       "    </tr>\n",
       "  </tbody>\n",
       "</table>\n",
       "</div>"
      ],
      "text/plain": [
       "      id  host_id  host_listings_count neighbourhood_cleansed  latitude  \\\n",
       "0   2539     2787                  9.0             Kensington  40.64529   \n",
       "1   5121     7356                  2.0     Bedford-Stuyvesant  40.68535   \n",
       "2  45910   204539                  7.0              Ridgewood  40.70309   \n",
       "3   5136     7378                  1.0            Sunset Park  40.66265   \n",
       "4  77765   417504                 30.0             Greenpoint  40.73777   \n",
       "\n",
       "   longitude                property_type        room_type  accommodates  \\\n",
       "0  -73.97238  Private room in rental unit     Private room             2   \n",
       "1  -73.95512  Private room in rental unit     Private room             2   \n",
       "2  -73.89963             Entire townhouse  Entire home/apt            16   \n",
       "3  -73.99454           Entire rental unit  Entire home/apt             4   \n",
       "4  -73.95366       Room in boutique hotel       Hotel room             2   \n",
       "\n",
       "   bedrooms  beds  minimum_nights  availability_30  number_of_reviews  \\\n",
       "0       1.0   1.0              30               21                  9   \n",
       "1       1.0   1.0              30                5                 50   \n",
       "2       5.0  10.0              30               30                 13   \n",
       "3       2.0   2.0              21                0                  3   \n",
       "4       1.0   1.0               2               15                 42   \n",
       "\n",
       "   review_scores_rating    zip  Price  \n",
       "0                  4.89  11218  299.0  \n",
       "1                  4.52  11216   60.0  \n",
       "2                  4.42  11385  425.0  \n",
       "3                  5.00  11215  275.0  \n",
       "4                  4.90  11109  308.0  "
      ]
     },
     "execution_count": 9,
     "metadata": {},
     "output_type": "execute_result"
    }
   ],
   "source": [
    "df.head()"
   ]
  },
  {
   "cell_type": "code",
   "execution_count": 10,
   "id": "93eba812",
   "metadata": {},
   "outputs": [
    {
     "data": {
      "text/plain": [
       "LinearRegression()"
      ]
     },
     "execution_count": 10,
     "metadata": {},
     "output_type": "execute_result"
    }
   ],
   "source": [
    "# Create a linear regression object\n",
    "reg = linear_model.LinearRegression()\n",
    "reg.fit(df[[\"zip\", \"bedrooms\", \"minimum_nights\", \"review_scores_rating\"]],df.Price)"
   ]
  },
  {
   "cell_type": "code",
   "execution_count": 11,
   "id": "c87aeddf",
   "metadata": {},
   "outputs": [
    {
     "data": {
      "text/plain": [
       "array([-8.34759170e-02,  1.21802016e+02, -3.21787160e-01,  1.01094996e+01])"
      ]
     },
     "execution_count": 11,
     "metadata": {},
     "output_type": "execute_result"
    }
   ],
   "source": [
    "#Look at the coefficient\n",
    "reg.coef_"
   ]
  },
  {
   "cell_type": "code",
   "execution_count": 12,
   "id": "aaa17ee9",
   "metadata": {},
   "outputs": [
    {
     "data": {
      "text/plain": [
       "872.8158544395167"
      ]
     },
     "execution_count": 12,
     "metadata": {},
     "output_type": "execute_result"
    }
   ],
   "source": [
    "#Look at the intercept\n",
    "reg.intercept_"
   ]
  },
  {
   "cell_type": "markdown",
   "id": "fe0ad71e",
   "metadata": {},
   "source": [
    "### Find price with a home of 11210 zip, 3.0 bedroomes, 4 minimum nights and 3.90 of review_scores_rating"
   ]
  },
  {
   "cell_type": "code",
   "execution_count": 13,
   "id": "5d93702c",
   "metadata": {},
   "outputs": [
    {
     "data": {
      "text/plain": [
       "array([340.59677271])"
      ]
     },
     "execution_count": 13,
     "metadata": {},
     "output_type": "execute_result"
    }
   ],
   "source": [
    "reg.predict([[11210,3.0,4,3.90]])"
   ]
  }
 ],
 "metadata": {
  "kernelspec": {
   "display_name": "mlenv",
   "language": "python",
   "name": "mlenv"
  },
  "language_info": {
   "codemirror_mode": {
    "name": "ipython",
    "version": 3
   },
   "file_extension": ".py",
   "mimetype": "text/x-python",
   "name": "python",
   "nbconvert_exporter": "python",
   "pygments_lexer": "ipython3",
   "version": "3.7.13"
  }
 },
 "nbformat": 4,
 "nbformat_minor": 5
}
